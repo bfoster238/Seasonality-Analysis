{
 "cells": [
  {
   "cell_type": "code",
   "execution_count": 1,
   "id": "eac0cd7e",
   "metadata": {},
   "outputs": [
    {
     "name": "stderr",
     "output_type": "stream",
     "text": [
      "C:\\Users\\brand\\anaconda3_2\\Lib\\site-packages\\yfinance\\base.py:48: FutureWarning: The default dtype for empty Series will be 'object' instead of 'float64' in a future version. Specify a dtype explicitly to silence this warning.\n",
      "  _empty_series = pd.Series()\n"
     ]
    },
    {
     "data": {
      "application/vnd.jupyter.widget-view+json": {
       "model_id": "09026a7014464b30936a94e6b1256eed",
       "version_major": 2,
       "version_minor": 0
      },
      "text/plain": [
       "Text(value='', description='Ticker:', placeholder='Enter stock ticker symbol')"
      ]
     },
     "metadata": {},
     "output_type": "display_data"
    },
    {
     "data": {
      "application/vnd.jupyter.widget-view+json": {
       "model_id": "82f90feb5d7e449fadf012a156dfa7c4",
       "version_major": 2,
       "version_minor": 0
      },
      "text/plain": [
       "Text(value='5', description='Years:', placeholder='Enter number of years')"
      ]
     },
     "metadata": {},
     "output_type": "display_data"
    },
    {
     "data": {
      "application/vnd.jupyter.widget-view+json": {
       "model_id": "6846807e1fa74ca8ac7e514a39069067",
       "version_major": 2,
       "version_minor": 0
      },
      "text/plain": [
       "Checkbox(value=True, description='Show All Time Data?')"
      ]
     },
     "metadata": {},
     "output_type": "display_data"
    },
    {
     "data": {
      "application/vnd.jupyter.widget-view+json": {
       "model_id": "d2d3fa927143451791dac1a9d13c2195",
       "version_major": 2,
       "version_minor": 0
      },
      "text/plain": [
       "Button(button_style='success', description='Generate', icon='line-chart', style=ButtonStyle(), tooltip='Click …"
      ]
     },
     "metadata": {},
     "output_type": "display_data"
    },
    {
     "data": {
      "application/vnd.jupyter.widget-view+json": {
       "model_id": "b573c9628e9147b58393996e61751028",
       "version_major": 2,
       "version_minor": 0
      },
      "text/plain": [
       "Output()"
      ]
     },
     "metadata": {},
     "output_type": "display_data"
    }
   ],
   "source": [
    "import yfinance as yf\n",
    "import pandas as pd\n",
    "import matplotlib.pyplot as plt\n",
    "import ipywidgets as widgets\n",
    "from IPython.display import display, clear_output\n",
    "from datetime import datetime\n",
    "\n",
    "# Function to calculate monthly seasonality\n",
    "def calculate_monthly_seasonality(stock_symbol, n_years, include_all_time=True):\n",
    "    current_year = datetime.now().year\n",
    "\n",
    "    # Download historical stock data since inception and exclude the current year\n",
    "    stock_data_all = yf.download(stock_symbol, period=\"max\")\n",
    "    stock_data_all = stock_data_all[stock_data_all.index.year < current_year].copy()  # Use .copy()\n",
    "\n",
    "    # Calculate daily returns\n",
    "    stock_data_all['Daily Return'] = stock_data_all['Adj Close'].pct_change()\n",
    "\n",
    "    # Extract the year and month from the date\n",
    "    stock_data_all['Year'] = stock_data_all.index.year\n",
    "    stock_data_all['Month'] = stock_data_all.index.month\n",
    "\n",
    "    # Calculate monthly returns for all-time data\n",
    "    if include_all_time:\n",
    "        monthly_returns_all = stock_data_all.groupby(['Year', 'Month'])['Daily Return'].mean()\n",
    "    else:\n",
    "        monthly_returns_all = None  # No all-time data when not checked\n",
    "\n",
    "    # Download historical stock data for the last n years and exclude the current year\n",
    "    stock_data_n_years = yf.download(stock_symbol, period=f\"{n_years}y\")\n",
    "    stock_data_n_years = stock_data_n_years[stock_data_n_years.index.year < current_year].copy()  # Use .copy()\n",
    "\n",
    "    # Calculate daily returns\n",
    "    stock_data_n_years['Daily Return'] = stock_data_n_years['Adj Close'].pct_change()\n",
    "\n",
    "    # Extract the year and month from the date\n",
    "    stock_data_n_years['Year'] = stock_data_n_years.index.year\n",
    "    stock_data_n_years['Month'] = stock_data_n_years.index.month\n",
    "\n",
    "    # Calculate monthly returns for n-year data\n",
    "    monthly_returns_n_years = stock_data_n_years.groupby(['Year', 'Month'])['Daily Return'].mean()\n",
    "\n",
    "    return monthly_returns_all, monthly_returns_n_years\n",
    "\n",
    "# Function to plot the seasonality results\n",
    "def plot_seasonality(stock_symbol, monthly_returns_all, monthly_returns_n_years, n_years, include_all_time):\n",
    "    fig, ax1 = plt.subplots(figsize=(10, 6))\n",
    "\n",
    "    # Calculate and plot all-time data if available and the checkbox is checked\n",
    "    if include_all_time and monthly_returns_all is not None:\n",
    "        average_monthly_returns_all = monthly_returns_all.groupby('Month').mean()\n",
    "        gain_frequency_all = monthly_returns_all.groupby('Month').apply(lambda x: (x > 0).mean())\n",
    "        ax1.bar(average_monthly_returns_all.index, average_monthly_returns_all * 100, alpha=0.7, color='b', label='All-Time Average Monthly Gain')\n",
    "\n",
    "    # Calculate and plot n-year data\n",
    "    average_monthly_returns_n_years = monthly_returns_n_years.groupby('Month').mean()\n",
    "    gain_frequency_n_years = monthly_returns_n_years.groupby('Month').apply(lambda x: (x > 0).mean())\n",
    "    ax1.bar(average_monthly_returns_n_years.index, average_monthly_returns_n_years * 100, alpha=0.7, color='g', label=f'{n_years}-Year Average Monthly Gain')\n",
    "    \n",
    "    ax1.set_xlabel('Month')\n",
    "    ax1.set_ylabel('Average Gain (%)')\n",
    "    ax1.set_xticks(average_monthly_returns_n_years.index)\n",
    "    ax1.set_xticklabels(['Jan', 'Feb', 'Mar', 'Apr', 'May', 'Jun', 'Jul', 'Aug', 'Sep', 'Oct', 'Nov', 'Dec'])\n",
    "\n",
    "    # Create second y-axis for gain frequency\n",
    "    ax2 = ax1.twinx()\n",
    "\n",
    "    if include_all_time and monthly_returns_all is not None:\n",
    "        ax2.plot(gain_frequency_all.index, gain_frequency_all, color='r', marker='o', label='All-Time Gain Frequency')\n",
    "    \n",
    "    ax2.plot(gain_frequency_n_years.index, gain_frequency_n_years, color='m', marker='o', label=f'{n_years}-Year Gain Frequency')\n",
    "    ax2.set_ylabel('Gain Frequency')\n",
    "    ax2.set_ylim(0, 1)\n",
    "\n",
    "    plt.title(f'Monthly Seasonality Analysis for {stock_symbol}')\n",
    "    plt.grid(True)\n",
    "    fig.legend(loc='upper left', bbox_to_anchor=(0.1, 0.9))\n",
    "    plt.show()\n",
    "\n",
    "# Function to handle button click and display the chart\n",
    "def on_button_click(b):\n",
    "    stock_symbol = ticker_input.value.upper()  # Get the user input ticker symbol\n",
    "    try:\n",
    "        n_years = int(n_years_input.value)  # Get the user input for the number of years\n",
    "    except ValueError:\n",
    "        with output:\n",
    "            clear_output(wait=True)\n",
    "            print(\"Please enter a valid number of years.\")\n",
    "        return\n",
    "\n",
    "    include_all_time = all_time_checkbox.value  # Check if \"Show All Time Data\" is selected\n",
    "\n",
    "    if stock_symbol and n_years > 0:\n",
    "        with output:\n",
    "            clear_output(wait=True)\n",
    "            print(f\"Generating seasonality analysis for {stock_symbol} over the last {n_years} years...\")\n",
    "            try:\n",
    "                monthly_returns_all, monthly_returns_n_years = calculate_monthly_seasonality(stock_symbol, n_years, include_all_time)\n",
    "                plot_seasonality(stock_symbol, monthly_returns_all, monthly_returns_n_years, n_years, include_all_time)\n",
    "            except Exception as e:\n",
    "                print(f\"An error occurred: {e}\")\n",
    "    else:\n",
    "        with output:\n",
    "            clear_output(wait=True)\n",
    "            print(\"Please enter a valid stock ticker symbol and number of years.\")\n",
    "\n",
    "# Create widgets for ticker input, n years input, checkbox, and generate button\n",
    "ticker_input = widgets.Text(\n",
    "    value='',\n",
    "    placeholder='Enter stock ticker symbol',\n",
    "    description='Ticker:',\n",
    "    disabled=False\n",
    ")\n",
    "\n",
    "n_years_input = widgets.Text(\n",
    "    value='5',\n",
    "    placeholder='Enter number of years',\n",
    "    description='Years:',\n",
    "    disabled=False\n",
    ")\n",
    "\n",
    "all_time_checkbox = widgets.Checkbox(\n",
    "    value=True,\n",
    "    description='Show All Time Data?',\n",
    "    disabled=False\n",
    ")\n",
    "\n",
    "generate_button = widgets.Button(\n",
    "    description='Generate',\n",
    "    disabled=False,\n",
    "    button_style='success',\n",
    "    tooltip='Click to generate the seasonality analysis',\n",
    "    icon='line-chart'\n",
    ")\n",
    "\n",
    "generate_button.on_click(on_button_click)\n",
    "\n",
    "# Output area for displaying the chart\n",
    "output = widgets.Output()\n",
    "\n",
    "# Display widgets and output area\n",
    "display(ticker_input, n_years_input, all_time_checkbox, generate_button, output)\n"
   ]
  }
 ],
 "metadata": {
  "kernelspec": {
   "display_name": "Python 3 (ipykernel)",
   "language": "python",
   "name": "python3"
  },
  "language_info": {
   "codemirror_mode": {
    "name": "ipython",
    "version": 3
   },
   "file_extension": ".py",
   "mimetype": "text/x-python",
   "name": "python",
   "nbconvert_exporter": "python",
   "pygments_lexer": "ipython3",
   "version": "3.11.4"
  }
 },
 "nbformat": 4,
 "nbformat_minor": 5
}
